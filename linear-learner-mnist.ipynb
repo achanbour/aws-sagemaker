{
 "cells": [
  {
   "cell_type": "code",
   "execution_count": 9,
   "metadata": {},
   "outputs": [],
   "source": [
    "import pickle, gzip, numpy, json"
   ]
  },
  {
   "cell_type": "code",
   "execution_count": 11,
   "metadata": {},
   "outputs": [],
   "source": [
    "with gzip.open('mnist.pkl.gz', 'rb') as f:\n",
    "    train_set, valid_set, test_set = pickle.load(f, encoding='latin1')"
   ]
  },
  {
   "cell_type": "code",
   "execution_count": null,
   "metadata": {},
   "outputs": [],
   "source": [
    "import sys\n",
    "!{sys.executable} -m pip install matplotlib"
   ]
  },
  {
   "cell_type": "code",
   "execution_count": 15,
   "metadata": {},
   "outputs": [
    {
     "data": {
      "image/png": "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\n",
      "text/plain": [
       "<Figure size 144x720 with 1 Axes>"
      ]
     },
     "metadata": {
      "needs_background": "light"
     },
     "output_type": "display_data"
    }
   ],
   "source": [
    "%matplotlib inline\n",
    "import matplotlib.pyplot as plt\n",
    "plt.rcParams['figure.figsize'] = (2, 10)\n",
    "\n",
    "def show_digit(img, caption='', subplot=None):\n",
    "    if subplot == None:\n",
    "        _, (subplot) =  plt.subplots(1,1)\n",
    "    imgr = img.reshape((28,28))\n",
    "    subplot.axis('off')\n",
    "    subplot.imshow(imgr, cmap='gray')\n",
    "    plt.title(caption)\n",
    "    \n",
    "test_image = train_set[0][50] #51st image in training set\n",
    "test_label = train_set[1][50] #51st corresponding label\n",
    "show_digit(test_image, 'Image of a {}'.format(test_label))"
   ]
  },
  {
   "cell_type": "code",
   "execution_count": 15,
   "metadata": {},
   "outputs": [
    {
     "data": {
      "text/plain": [
       "0"
      ]
     },
     "execution_count": 15,
     "metadata": {},
     "output_type": "execute_result"
    }
   ],
   "source": [
    "#reformatting the data labels into a binary format: 1 if the image is a zero and 0 if the image is not a zero\n",
    "\n",
    "import io\n",
    "import numpy as np\n",
    "import sagemaker.amazon.common as smac\n",
    "\n",
    "vectors = np.array([t.tolist() for t in train_set[0]]).astype('float32')\n",
    "labels = np.where(np.array([t.tolist() for t in train_set[1]]) == 0, 1, 0).astype('float32')\n",
    "\n",
    "buf = io.BytesIO()\n",
    "smac.write_numpy_to_dense_tensor(buf, vectors, labels)\n",
    "buf.seek(0)"
   ]
  },
  {
   "cell_type": "code",
   "execution_count": 17,
   "metadata": {},
   "outputs": [],
   "source": [
    "#creating S3 bucket\n",
    "bucket = \"sagemaker-tutorial-linear-learner-mnist\"\n",
    "prefix = \"train-data\"\n",
    "\n",
    "import boto3\n",
    "import re\n",
    "from sagemaker import get_execution_role\n",
    "\n",
    "role = get_execution_role()\n"
   ]
  },
  {
   "cell_type": "code",
   "execution_count": 19,
   "metadata": {},
   "outputs": [
    {
     "name": "stdout",
     "output_type": "stream",
     "text": [
      "Uploaded train data to s3://sagemaker-tutorial-linear-learner-mnist/linear-learner-data/train-pb-data\n"
     ]
    }
   ],
   "source": [
    "#creating a protobuf training data set file\n",
    "import os\n",
    "key = 'train-pb-data'\n",
    "boto3.resource('s3').Bucket(bucket).Object(os.path.join(prefix, key)).upload_fileobj(buf)\n",
    "s3_train_data_location = 's3://{}/{}/{}'.format(bucket, prefix, key)\n",
    "print('Uploaded train data to {}'.format(s3_train_data_location))"
   ]
  },
  {
   "cell_type": "code",
   "execution_count": 21,
   "metadata": {},
   "outputs": [
    {
     "name": "stdout",
     "output_type": "stream",
     "text": [
      "Training artifacts will be uploaded to s3://sagemaker-tutorial-linear-learner-mnist/linear-learner-data\n"
     ]
    }
   ],
   "source": [
    "output_location = 's3://{}/{}'.format(bucket, prefix)\n",
    "print('Training artifacts will be uploaded to {}'.format(output_location))"
   ]
  },
  {
   "cell_type": "code",
   "execution_count": 40,
   "metadata": {},
   "outputs": [],
   "source": [
    "from sagemaker import image_uris\n",
    "#container where ML model is deployed\n",
    "container = image_uris.retrieve(region=boto3.Session().region_name, framework='linear-learner')"
   ]
  },
  {
   "cell_type": "code",
   "execution_count": null,
   "metadata": {},
   "outputs": [],
   "source": [
    "#create a linear model instance\n",
    "import sagemaker\n",
    "\n",
    "session = sagemaker.Session()\n",
    "\n",
    "#linear learner is an instance of the Estimator abstraction\n",
    "linear_learner = sagemaker.estimator.Estimator(\n",
    "    container, #region of operation\n",
    "    role, #execution role\n",
    "    instance_count = 1, #train once\n",
    "    instance_type='ml.c4.xlarge', \n",
    "    output_path=output_location,\n",
    "    sagemarker_session=session\n",
    ")\n",
    "\n",
    "#setting hyperparameters\n",
    "linear_learner.set_hyperparameters(\n",
    "    feature_dim=784, #28x28=784 pixels image\n",
    "    predictor_type='binary_classifier',\n",
    "    mini_batch_size=200\n",
    ")\n",
    "#precise training data location in S3\n",
    "linear_learner.fit({'train': s3_train_data_location })"
   ]
  },
  {
   "cell_type": "code",
   "execution_count": 45,
   "metadata": {},
   "outputs": [
    {
     "name": "stdout",
     "output_type": "stream",
     "text": [
      "------!"
     ]
    }
   ],
   "source": [
    "#deploy the model\n",
    "linear_predictor = linear_learner.deploy(\n",
    "    initial_instance_count=1,\n",
    "    instance_type='ml.m4.xlarge')\n"
   ]
  },
  {
   "cell_type": "code",
   "execution_count": 54,
   "metadata": {},
   "outputs": [],
   "source": [
    "#validation\n",
    "linear_predictor.serializer = sagemaker.serializers.CSVSerializer()\n",
    "linear_predictor.deserializer = sagemaker.deserializers.JSONDeserializer()"
   ]
  },
  {
   "cell_type": "code",
   "execution_count": 55,
   "metadata": {},
   "outputs": [
    {
     "name": "stdout",
     "output_type": "stream",
     "text": [
      "{'predictions': [{'score': 0.007313421927392483, 'predicted_label': 0}]}\n"
     ]
    }
   ],
   "source": [
    "#test classifier on a single test image\n",
    "result = linear_predictor.predict(train_set[0][50:51])\n",
    "print(result)\n",
    "#score indicates confidence in classification"
   ]
  },
  {
   "cell_type": "code",
   "execution_count": 56,
   "metadata": {},
   "outputs": [],
   "source": [
    "#test classifier on multiple test images\n",
    "predictions = []\n",
    "for array in np.array_split(test_set[0], 100):\n",
    "    result = linear_predictor.predict(array)\n",
    "    predictions += [r['predicted_label'] for r in result['predictions']]\n",
    "\n",
    "predictions = np.array(predictions)\n"
   ]
  },
  {
   "cell_type": "code",
   "execution_count": 67,
   "metadata": {},
   "outputs": [
    {
     "data": {
      "text/html": [
       "<div>\n",
       "<style scoped>\n",
       "    .dataframe tbody tr th:only-of-type {\n",
       "        vertical-align: middle;\n",
       "    }\n",
       "\n",
       "    .dataframe tbody tr th {\n",
       "        vertical-align: top;\n",
       "    }\n",
       "\n",
       "    .dataframe thead th {\n",
       "        text-align: right;\n",
       "    }\n",
       "</style>\n",
       "<table border=\"1\" class=\"dataframe\">\n",
       "  <thead>\n",
       "    <tr style=\"text-align: right;\">\n",
       "      <th>predictions</th>\n",
       "      <th>0</th>\n",
       "      <th>1</th>\n",
       "    </tr>\n",
       "    <tr>\n",
       "      <th>actuals</th>\n",
       "      <th></th>\n",
       "      <th></th>\n",
       "    </tr>\n",
       "  </thead>\n",
       "  <tbody>\n",
       "    <tr>\n",
       "      <th>0</th>\n",
       "      <td>8973</td>\n",
       "      <td>47</td>\n",
       "    </tr>\n",
       "    <tr>\n",
       "      <th>1</th>\n",
       "      <td>37</td>\n",
       "      <td>943</td>\n",
       "    </tr>\n",
       "  </tbody>\n",
       "</table>\n",
       "</div>"
      ],
      "text/plain": [
       "predictions     0    1\n",
       "actuals               \n",
       "0            8973   47\n",
       "1              37  943"
      ]
     },
     "execution_count": 67,
     "metadata": {},
     "output_type": "execute_result"
    }
   ],
   "source": [
    "#build a confusion matrix to evaluate model performance\n",
    "import pandas as pd\n",
    "pd.crosstab(np.where(test_set[1] == 0, 1, 0), predictions, rownames=['actuals'], colnames=['predictions'])"
   ]
  }
